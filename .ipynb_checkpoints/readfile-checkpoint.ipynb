{
 "cells": [
  {
   "cell_type": "code",
   "execution_count": 7,
   "metadata": {
    "collapsed": true
   },
   "outputs": [],
   "source": [
    "import btk\n",
    "from btk import *"
   ]
  },
  {
   "cell_type": "code",
   "execution_count": 10,
   "metadata": {
    "collapsed": false
   },
   "outputs": [
    {
     "ename": "RuntimeError",
     "evalue": "No IO found, the file is not supported or valid or the file suffix is misspelled (Some IO use it to verify they can read the file)\nFilename: Dancer_B0007_gapfilled.tsv",
     "output_type": "error",
     "traceback": [
      "\u001b[1;31m-------------------------\u001b[0m",
      "\u001b[1;31mRuntimeError\u001b[0mTraceback (most recent call last)",
      "\u001b[1;32m<ipython-input-10-26935f0bbca7>\u001b[0m in \u001b[0;36m<module>\u001b[1;34m()\u001b[0m\n\u001b[0;32m      1\u001b[0m \u001b[0mreader\u001b[0m \u001b[1;33m=\u001b[0m \u001b[0mbtk\u001b[0m\u001b[1;33m.\u001b[0m\u001b[0mbtkAcquisitionFileReader\u001b[0m\u001b[1;33m(\u001b[0m\u001b[1;33m)\u001b[0m\u001b[1;33m\u001b[0m\u001b[0m\n\u001b[0;32m      2\u001b[0m \u001b[0mreader\u001b[0m\u001b[1;33m.\u001b[0m\u001b[0mSetFilename\u001b[0m\u001b[1;33m(\u001b[0m\u001b[1;34m'Dancer_B0007_gapfilled.tsv'\u001b[0m\u001b[1;33m)\u001b[0m\u001b[1;33m\u001b[0m\u001b[0m\n\u001b[1;32m----> 3\u001b[1;33m \u001b[0mreader\u001b[0m\u001b[1;33m.\u001b[0m\u001b[0mUpdate\u001b[0m\u001b[1;33m(\u001b[0m\u001b[1;33m)\u001b[0m\u001b[1;33m\u001b[0m\u001b[0m\n\u001b[0m\u001b[0;32m      4\u001b[0m \u001b[0macq\u001b[0m \u001b[1;33m=\u001b[0m \u001b[0mreader\u001b[0m\u001b[1;33m.\u001b[0m\u001b[0mGetOutput\u001b[0m\u001b[1;33m(\u001b[0m\u001b[1;33m)\u001b[0m\u001b[1;33m\u001b[0m\u001b[0m\n",
      "\u001b[1;32m/usr/local/lib/python2.7/dist-packages/btk/__init__.pyc\u001b[0m in \u001b[0;36mUpdate\u001b[1;34m(self)\u001b[0m\n\u001b[0;32m   4945\u001b[0m          2) generate the data by using the GenerateData() method.\n\u001b[0;32m   4946\u001b[0m         \"\"\"\n\u001b[1;32m-> 4947\u001b[1;33m         \u001b[1;32mreturn\u001b[0m \u001b[0m_btk\u001b[0m\u001b[1;33m.\u001b[0m\u001b[0mbtkAcquisitionFileReader_Update\u001b[0m\u001b[1;33m(\u001b[0m\u001b[0mself\u001b[0m\u001b[1;33m)\u001b[0m\u001b[1;33m\u001b[0m\u001b[0m\n\u001b[0m\u001b[0;32m   4948\u001b[0m \u001b[1;33m\u001b[0m\u001b[0m\n\u001b[0;32m   4949\u001b[0m     \u001b[1;32mdef\u001b[0m \u001b[0mGetTimestamp\u001b[0m\u001b[1;33m(\u001b[0m\u001b[0mself\u001b[0m\u001b[1;33m)\u001b[0m\u001b[1;33m:\u001b[0m\u001b[1;33m\u001b[0m\u001b[0m\n",
      "\u001b[1;31mRuntimeError\u001b[0m: No IO found, the file is not supported or valid or the file suffix is misspelled (Some IO use it to verify they can read the file)\nFilename: Dancer_B0007_gapfilled.tsv"
     ]
    }
   ],
   "source": [
    "reader = btk.btkAcquisitionFileReader()\n",
    "reader.SetFilename('Dancer_B0007_gapfilled.tsv')\n",
    "reader.Update()\n",
    "acq = reader.GetOutput()"
   ]
  },
  {
   "cell_type": "code",
   "execution_count": 15,
   "metadata": {
    "collapsed": false
   },
   "outputs": [
    {
     "ename": "TypeError",
     "evalue": "unbound method CanReadFile() must be called with btkDelsysEMGFileIO instance as first argument (got nothing instead)",
     "output_type": "error",
     "traceback": [
      "\u001b[1;31m-------------------------\u001b[0m",
      "\u001b[1;31mTypeError\u001b[0mTraceback (most recent call last)",
      "\u001b[1;32m<ipython-input-15-da0eaebc0e71>\u001b[0m in \u001b[0;36m<module>\u001b[1;34m()\u001b[0m\n\u001b[0;32m      1\u001b[0m \u001b[1;33m\u001b[0m\u001b[0m\n\u001b[1;32m----> 2\u001b[1;33m \u001b[0mbtkDelsysEMGFileIO\u001b[0m\u001b[1;33m.\u001b[0m\u001b[0mCanReadFile\u001b[0m\u001b[1;33m(\u001b[0m\u001b[1;33m)\u001b[0m\u001b[1;33m\u001b[0m\u001b[0m\n\u001b[0m",
      "\u001b[1;31mTypeError\u001b[0m: unbound method CanReadFile() must be called with btkDelsysEMGFileIO instance as first argument (got nothing instead)"
     ]
    }
   ],
   "source": [
    "\n",
    "btkDelsysEMGFileIO.CanReadFile()"
   ]
  },
  {
   "cell_type": "code",
   "execution_count": null,
   "metadata": {
    "collapsed": true
   },
   "outputs": [],
   "source": []
  }
 ],
 "metadata": {
  "kernelspec": {
   "display_name": "Python 2",
   "language": "python",
   "name": "python2"
  },
  "language_info": {
   "codemirror_mode": {
    "name": "ipython",
    "version": 2
   },
   "file_extension": ".py",
   "mimetype": "text/x-python",
   "name": "python",
   "nbconvert_exporter": "python",
   "pygments_lexer": "ipython2",
   "version": "2.7.13"
  }
 },
 "nbformat": 4,
 "nbformat_minor": 0
}
